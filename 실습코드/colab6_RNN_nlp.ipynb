{
  "nbformat": 4,
  "nbformat_minor": 0,
  "metadata": {
    "colab": {
      "name": "RNN_nlp.ipynb",
      "version": "0.3.2",
      "provenance": [],
      "collapsed_sections": []
    },
    "kernelspec": {
      "name": "python3",
      "display_name": "Python 3"
    }
  },
  "cells": [
    {
      "metadata": {
        "id": "0LxucMKulu3M",
        "colab_type": "text"
      },
      "cell_type": "markdown",
      "source": [
        "# Language model"
      ]
    },
    {
      "metadata": {
        "id": "dlK9ozo5mBN7",
        "colab_type": "text"
      },
      "cell_type": "markdown",
      "source": [
        "## one-hot encoding"
      ]
    },
    {
      "metadata": {
        "id": "LRlYO-9HlSdb",
        "colab_type": "code",
        "outputId": "cfe8fb53-ab23-47a3-ffc5-78b2f8d62db4",
        "colab": {
          "base_uri": "https://localhost:8080/",
          "height": 35
        }
      },
      "cell_type": "code",
      "source": [
        "import numpy as np\n",
        "import keras"
      ],
      "execution_count": 0,
      "outputs": [
        {
          "output_type": "stream",
          "text": [
            "Using TensorFlow backend.\n"
          ],
          "name": "stderr"
        }
      ]
    },
    {
      "metadata": {
        "id": "Dyk0LBjAmNFW",
        "colab_type": "code",
        "colab": {}
      },
      "cell_type": "code",
      "source": [
        "# 초기 데이터: 각 원소가 샘플입니다\n",
        "# (이 예에서 하나의 샘플이 하나의 문장입니다. 하지만 문서 전체가 될 수도 있습니다)\n",
        "samples = ['The cat sat on the mat.', 'The dog ate my homework.']\n",
        "\n",
        "# 데이터에 있는 모든 토큰의 인덱스를 구축합니다\n",
        "token_index = {}\n",
        "for sample in samples:\n",
        "    # split() 메서드를 사용해 샘플을 토큰으로 나눕니다.\n",
        "    # 실전에서는 구둣점과 특수 문자도 사용합니다.\n",
        "    for word in sample.split():\n",
        "        if word not in token_index:\n",
        "            # 단어마다 고유한 인덱스를 할당합니다.\n",
        "            token_index[word] = len(token_index) + 1\n",
        "            # 인덱스 0은 사용하지 않습니다.\n",
        "\n",
        "# 샘플을 벡터로 변환합니다.\n",
        "# 각 샘플에서 max_length 까지 단어만 사용합니다.\n",
        "max_length = 10\n",
        "\n",
        "# 결과를 저장할 배열입니다\n",
        "results = np.zeros((len(samples), max_length, max(token_index.values()) + 1))\n",
        "for i, sample in enumerate(samples):\n",
        "    for j, word in list(enumerate(sample.split()))[:max_length]:\n",
        "        index = token_index.get(word)\n",
        "        results[i, j, index] = 1."
      ],
      "execution_count": 0,
      "outputs": []
    },
    {
      "metadata": {
        "id": "JlbLLg57mP9m",
        "colab_type": "code",
        "outputId": "de641eea-b28e-4c16-8ebe-4e15434f0132",
        "colab": {
          "base_uri": "https://localhost:8080/",
          "height": 395
        }
      },
      "cell_type": "code",
      "source": [
        "print(results)"
      ],
      "execution_count": 0,
      "outputs": [
        {
          "output_type": "stream",
          "text": [
            "[[[0. 1. 0. 0. 0. 0. 0. 0. 0. 0. 0.]\n",
            "  [0. 0. 1. 0. 0. 0. 0. 0. 0. 0. 0.]\n",
            "  [0. 0. 0. 1. 0. 0. 0. 0. 0. 0. 0.]\n",
            "  [0. 0. 0. 0. 1. 0. 0. 0. 0. 0. 0.]\n",
            "  [0. 0. 0. 0. 0. 1. 0. 0. 0. 0. 0.]\n",
            "  [0. 0. 0. 0. 0. 0. 1. 0. 0. 0. 0.]\n",
            "  [0. 0. 0. 0. 0. 0. 0. 0. 0. 0. 0.]\n",
            "  [0. 0. 0. 0. 0. 0. 0. 0. 0. 0. 0.]\n",
            "  [0. 0. 0. 0. 0. 0. 0. 0. 0. 0. 0.]\n",
            "  [0. 0. 0. 0. 0. 0. 0. 0. 0. 0. 0.]]\n",
            "\n",
            " [[0. 1. 0. 0. 0. 0. 0. 0. 0. 0. 0.]\n",
            "  [0. 0. 0. 0. 0. 0. 0. 1. 0. 0. 0.]\n",
            "  [0. 0. 0. 0. 0. 0. 0. 0. 1. 0. 0.]\n",
            "  [0. 0. 0. 0. 0. 0. 0. 0. 0. 1. 0.]\n",
            "  [0. 0. 0. 0. 0. 0. 0. 0. 0. 0. 1.]\n",
            "  [0. 0. 0. 0. 0. 0. 0. 0. 0. 0. 0.]\n",
            "  [0. 0. 0. 0. 0. 0. 0. 0. 0. 0. 0.]\n",
            "  [0. 0. 0. 0. 0. 0. 0. 0. 0. 0. 0.]\n",
            "  [0. 0. 0. 0. 0. 0. 0. 0. 0. 0. 0.]\n",
            "  [0. 0. 0. 0. 0. 0. 0. 0. 0. 0. 0.]]]\n"
          ],
          "name": "stdout"
        }
      ]
    },
    {
      "metadata": {
        "id": "jghPo324mlhJ",
        "colab_type": "text"
      },
      "cell_type": "markdown",
      "source": [
        "## keras 의 Tokenizer 사용"
      ]
    },
    {
      "metadata": {
        "id": "AvIs4pRnmYId",
        "colab_type": "code",
        "outputId": "564c19a7-5304-4d17-ba8e-63b9d8016a04",
        "colab": {
          "base_uri": "https://localhost:8080/",
          "height": 35
        }
      },
      "cell_type": "code",
      "source": [
        "from keras.preprocessing.text import Tokenizer\n",
        "\n",
        "samples = ['The cat sat on the mat.', 'The dog ate my homework.']\n",
        "\n",
        "# 가장 빈도가 높은 1,000개의 단어만 선택하도록 Tokenizer 객체를 만듭니다.\n",
        "tokenizer = Tokenizer(num_words=10)\n",
        "# 단어 인덱스를 구축합니다.\n",
        "tokenizer.fit_on_texts(samples)\n",
        "\n",
        "# 문자열을 정수 인덱스의 리스트로 변환합니다.\n",
        "sequences = tokenizer.texts_to_sequences(samples)\n",
        "\n",
        "# 직접 원-핫 이진 벡터 표현을 얻을 수 있습니다.\n",
        "# 원-핫 인코딩 외에 다른 벡터화 방법들도 제공합니다!\n",
        "one_hot_results = tokenizer.texts_to_matrix(samples, mode='binary')\n",
        "\n",
        "# 계산된 단어 인덱스를 구합니다.\n",
        "word_index = tokenizer.word_index\n",
        "print('Found %s unique tokens.' % len(word_index))"
      ],
      "execution_count": 0,
      "outputs": [
        {
          "output_type": "stream",
          "text": [
            "Found 9 unique tokens.\n"
          ],
          "name": "stdout"
        }
      ]
    },
    {
      "metadata": {
        "id": "bDrU-ip-m01G",
        "colab_type": "code",
        "outputId": "e2f6a4e4-291f-465b-b399-377be4968526",
        "colab": {
          "base_uri": "https://localhost:8080/",
          "height": 35
        }
      },
      "cell_type": "code",
      "source": [
        "print(sequences)"
      ],
      "execution_count": 0,
      "outputs": [
        {
          "output_type": "stream",
          "text": [
            "[[1, 2, 3, 4, 1, 5], [1, 6, 7, 8, 9]]\n"
          ],
          "name": "stdout"
        }
      ]
    },
    {
      "metadata": {
        "id": "2gN-wWUfnpfI",
        "colab_type": "text"
      },
      "cell_type": "markdown",
      "source": [
        "## document representations\n",
        "\n",
        "단어의 one-hot encoding 을 활용하여 document를 vector로 나타내는 방법들\n",
        "\n",
        "one-hot encoding 과 같이 dictionary 의 크기가 벡터의 크기가 됨\n",
        "\n",
        "- bag of words\n",
        "- tf-idf"
      ]
    },
    {
      "metadata": {
        "id": "or1B1Nvcm4Ev",
        "colab_type": "code",
        "colab": {}
      },
      "cell_type": "code",
      "source": [
        "from sklearn.feature_extraction.text import CountVectorizer\n",
        "from sklearn.feature_extraction.text import TfidfVectorizer"
      ],
      "execution_count": 0,
      "outputs": []
    },
    {
      "metadata": {
        "id": "xS43n4CmoGw0",
        "colab_type": "code",
        "colab": {}
      },
      "cell_type": "code",
      "source": [
        "bow = CountVectorizer()\n",
        "tfidf = TfidfVectorizer()"
      ],
      "execution_count": 0,
      "outputs": []
    },
    {
      "metadata": {
        "id": "0H12nSp-pSiu",
        "colab_type": "code",
        "outputId": "b3fdb268-46dd-4950-f833-0642b1cecfbe",
        "colab": {
          "base_uri": "https://localhost:8080/",
          "height": 125
        }
      },
      "cell_type": "code",
      "source": [
        "bow.fit(samples)"
      ],
      "execution_count": 0,
      "outputs": [
        {
          "output_type": "execute_result",
          "data": {
            "text/plain": [
              "CountVectorizer(analyzer='word', binary=False, decode_error='strict',\n",
              "        dtype=<class 'numpy.int64'>, encoding='utf-8', input='content',\n",
              "        lowercase=True, max_df=1.0, max_features=None, min_df=1,\n",
              "        ngram_range=(1, 1), preprocessor=None, stop_words=None,\n",
              "        strip_accents=None, token_pattern='(?u)\\\\b\\\\w\\\\w+\\\\b',\n",
              "        tokenizer=None, vocabulary=None)"
            ]
          },
          "metadata": {
            "tags": []
          },
          "execution_count": 14
        }
      ]
    },
    {
      "metadata": {
        "id": "xC_XwnyzpWc6",
        "colab_type": "code",
        "outputId": "8756f989-ff21-4d85-be9c-1981dbeae9fc",
        "colab": {
          "base_uri": "https://localhost:8080/",
          "height": 53
        }
      },
      "cell_type": "code",
      "source": [
        "bow.transform(samples).toarray()"
      ],
      "execution_count": 0,
      "outputs": [
        {
          "output_type": "execute_result",
          "data": {
            "text/plain": [
              "array([[0, 1, 0, 0, 1, 0, 1, 1, 2],\n",
              "       [1, 0, 1, 1, 0, 1, 0, 0, 1]])"
            ]
          },
          "metadata": {
            "tags": []
          },
          "execution_count": 16
        }
      ]
    },
    {
      "metadata": {
        "id": "JfqbKm9JpgHc",
        "colab_type": "code",
        "outputId": "edffa245-cb7f-455c-b35a-4636f6269ec1",
        "colab": {
          "base_uri": "https://localhost:8080/",
          "height": 143
        }
      },
      "cell_type": "code",
      "source": [
        "tfidf.fit(samples)"
      ],
      "execution_count": 0,
      "outputs": [
        {
          "output_type": "execute_result",
          "data": {
            "text/plain": [
              "TfidfVectorizer(analyzer='word', binary=False, decode_error='strict',\n",
              "        dtype=<class 'numpy.float64'>, encoding='utf-8', input='content',\n",
              "        lowercase=True, max_df=1.0, max_features=None, min_df=1,\n",
              "        ngram_range=(1, 1), norm='l2', preprocessor=None, smooth_idf=True,\n",
              "        stop_words=None, strip_accents=None, sublinear_tf=False,\n",
              "        token_pattern='(?u)\\\\b\\\\w\\\\w+\\\\b', tokenizer=None, use_idf=True,\n",
              "        vocabulary=None)"
            ]
          },
          "metadata": {
            "tags": []
          },
          "execution_count": 18
        }
      ]
    },
    {
      "metadata": {
        "id": "PlyCT-vupzr1",
        "colab_type": "code",
        "outputId": "9a011437-d601-41ad-ad42-66f5c1cfb12c",
        "colab": {
          "base_uri": "https://localhost:8080/",
          "height": 89
        }
      },
      "cell_type": "code",
      "source": [
        "tfidf.transform(samples).toarray()"
      ],
      "execution_count": 0,
      "outputs": [
        {
          "output_type": "execute_result",
          "data": {
            "text/plain": [
              "array([[0.        , 0.40740124, 0.        , 0.        , 0.40740124,\n",
              "        0.        , 0.40740124, 0.40740124, 0.57973867],\n",
              "       [0.47107781, 0.        , 0.47107781, 0.47107781, 0.        ,\n",
              "        0.47107781, 0.        , 0.        , 0.33517574]])"
            ]
          },
          "metadata": {
            "tags": []
          },
          "execution_count": 22
        }
      ]
    },
    {
      "metadata": {
        "id": "mhBl98lcp_Ss",
        "colab_type": "text"
      },
      "cell_type": "markdown",
      "source": [
        "## Embedding 층을 사용하여 단어 임베딩 학습"
      ]
    },
    {
      "metadata": {
        "id": "6EdjXu8xqhVR",
        "colab_type": "text"
      },
      "cell_type": "markdown",
      "source": [
        "- 단어를 one-hot encoding 으로 나타낼 경우 단어 dictionary 만큼의 dimension 을 갖게 됨\n",
        "- 높은 차원을 가지고 있지만 실제 array 는 sparse 함\n",
        "- 단어에 대한 vector를 학습을 통해서 구하고자함\n",
        "- embedding layer 는 특정 단어를 나타내는 정수 index 를 밀집 벡터로 매핑하는 것으로 이해할 수 있음\n",
        "- 정수를 입력으로 받아 이 정수에 연관된 벡터를 찾아 반환함"
      ]
    },
    {
      "metadata": {
        "id": "Zt4WWOrup2ZU",
        "colab_type": "code",
        "colab": {}
      },
      "cell_type": "code",
      "source": [
        "from keras.layers import Embedding"
      ],
      "execution_count": 0,
      "outputs": []
    },
    {
      "metadata": {
        "id": "mrGnRh90qKlO",
        "colab_type": "text"
      },
      "cell_type": "markdown",
      "source": [
        "### IMDB 영화 리뷰 데이터 이용한 실습"
      ]
    },
    {
      "metadata": {
        "id": "1ALP8OARsNto",
        "colab_type": "code",
        "colab": {}
      },
      "cell_type": "code",
      "source": [
        "from keras.datasets import imdb\n",
        "from keras import preprocessing"
      ],
      "execution_count": 0,
      "outputs": []
    },
    {
      "metadata": {
        "id": "PDgH4aZFtS5L",
        "colab_type": "code",
        "colab": {}
      },
      "cell_type": "code",
      "source": [
        "max_features = 10000\n",
        "maxlen = 20 # 한 개의 document 중에 가장 빈번한 단어 20개만 사용\n",
        "\n",
        "# 정수 리스트로 데이터를 로드합니다.\n",
        "(x_train, y_train), (x_test, y_test) = imdb.load_data(num_words=max_features)\n",
        "\n",
        "# 리스트를 (samples, maxlen) 크기의 2D 정수 텐서로 변환합니다.\n",
        "x_train = preprocessing.sequence.pad_sequences(x_train, maxlen=maxlen)\n",
        "x_test = preprocessing.sequence.pad_sequences(x_test, maxlen=maxlen)\n"
      ],
      "execution_count": 0,
      "outputs": []
    },
    {
      "metadata": {
        "id": "sRdSrQPPuDTF",
        "colab_type": "text"
      },
      "cell_type": "markdown",
      "source": [
        "### MLP 모형을 통한 감성 예측"
      ]
    },
    {
      "metadata": {
        "id": "3VRxy0hGt6xP",
        "colab_type": "code",
        "outputId": "c454607e-cf4f-465a-caa5-ce796dfd8540",
        "colab": {
          "base_uri": "https://localhost:8080/",
          "height": 757
        }
      },
      "cell_type": "code",
      "source": [
        "from keras.models import Sequential\n",
        "from keras.layers import Flatten, Dense, Embedding\n",
        "\n",
        "model = Sequential()\n",
        "# 나중에 임베딩된 입력을 Flatten 층에서 펼치기 위해 Embedding 층에 input_length를 지정합니다.\n",
        "model.add(Embedding(10000, 8, input_length=maxlen))\n",
        "# Embedding 층의 출력 크기는 (samples, maxlen, 8)가 됩니다.\n",
        "\n",
        "# 3D 임베딩 텐서를 (samples, maxlen * 8) 크기의 2D 텐서로 펼칩니다.\n",
        "model.add(Flatten())\n",
        "\n",
        "# 분류기를 추가합니다.\n",
        "model.add(Dense(1, activation='sigmoid'))\n",
        "model.compile(optimizer='rmsprop', loss='binary_crossentropy', metrics=['acc'])\n",
        "model.summary()\n",
        "\n",
        "history = model.fit(x_train, y_train,\n",
        "                    epochs=10,\n",
        "                    batch_size=32,\n",
        "                    validation_split=0.2)"
      ],
      "execution_count": 0,
      "outputs": [
        {
          "output_type": "stream",
          "text": [
            "WARNING:tensorflow:From /usr/local/lib/python3.6/dist-packages/tensorflow/python/framework/op_def_library.py:263: colocate_with (from tensorflow.python.framework.ops) is deprecated and will be removed in a future version.\n",
            "Instructions for updating:\n",
            "Colocations handled automatically by placer.\n",
            "_________________________________________________________________\n",
            "Layer (type)                 Output Shape              Param #   \n",
            "=================================================================\n",
            "embedding_1 (Embedding)      (None, 20, 8)             80000     \n",
            "_________________________________________________________________\n",
            "flatten_1 (Flatten)          (None, 160)               0         \n",
            "_________________________________________________________________\n",
            "dense_1 (Dense)              (None, 1)                 161       \n",
            "=================================================================\n",
            "Total params: 80,161\n",
            "Trainable params: 80,161\n",
            "Non-trainable params: 0\n",
            "_________________________________________________________________\n",
            "WARNING:tensorflow:From /usr/local/lib/python3.6/dist-packages/tensorflow/python/ops/math_ops.py:3066: to_int32 (from tensorflow.python.ops.math_ops) is deprecated and will be removed in a future version.\n",
            "Instructions for updating:\n",
            "Use tf.cast instead.\n",
            "Train on 20000 samples, validate on 5000 samples\n",
            "Epoch 1/10\n",
            "20000/20000 [==============================] - 2s 91us/step - loss: 0.6759 - acc: 0.6049 - val_loss: 0.6398 - val_acc: 0.6814\n",
            "Epoch 2/10\n",
            "20000/20000 [==============================] - 1s 64us/step - loss: 0.5657 - acc: 0.7427 - val_loss: 0.5467 - val_acc: 0.7206\n",
            "Epoch 3/10\n",
            "20000/20000 [==============================] - 1s 59us/step - loss: 0.4752 - acc: 0.7808 - val_loss: 0.5113 - val_acc: 0.7384\n",
            "Epoch 4/10\n",
            "20000/20000 [==============================] - 1s 60us/step - loss: 0.4263 - acc: 0.8077 - val_loss: 0.5008 - val_acc: 0.7452\n",
            "Epoch 5/10\n",
            "20000/20000 [==============================] - 1s 60us/step - loss: 0.3930 - acc: 0.8258 - val_loss: 0.4981 - val_acc: 0.7538\n",
            "Epoch 6/10\n",
            "20000/20000 [==============================] - 1s 59us/step - loss: 0.3668 - acc: 0.8395 - val_loss: 0.5014 - val_acc: 0.7530\n",
            "Epoch 7/10\n",
            "20000/20000 [==============================] - 1s 59us/step - loss: 0.3435 - acc: 0.8533 - val_loss: 0.5052 - val_acc: 0.7520\n",
            "Epoch 8/10\n",
            "20000/20000 [==============================] - 1s 60us/step - loss: 0.3223 - acc: 0.8657 - val_loss: 0.5132 - val_acc: 0.7486\n",
            "Epoch 9/10\n",
            "20000/20000 [==============================] - 1s 60us/step - loss: 0.3023 - acc: 0.8766 - val_loss: 0.5213 - val_acc: 0.7490\n",
            "Epoch 10/10\n",
            "20000/20000 [==============================] - 1s 59us/step - loss: 0.2839 - acc: 0.8860 - val_loss: 0.5303 - val_acc: 0.7466\n"
          ],
          "name": "stdout"
        }
      ]
    },
    {
      "metadata": {
        "id": "defrtHiWuWmK",
        "colab_type": "text"
      },
      "cell_type": "markdown",
      "source": [
        "## RNN IMDB 예측"
      ]
    },
    {
      "metadata": {
        "id": "kd3iXBEhuNYq",
        "colab_type": "code",
        "colab": {}
      },
      "cell_type": "code",
      "source": [
        "from keras.preprocessing import sequence"
      ],
      "execution_count": 0,
      "outputs": []
    },
    {
      "metadata": {
        "id": "u5keBcnJvrSd",
        "colab_type": "text"
      },
      "cell_type": "markdown",
      "source": [
        "- 앞의 MLP 와는 달리 RNN 모델은 데이터를 문서 하나를 하나의 데이터로 보는 것이 아닌 문서 하나를 단어들의 sequence 로 봄\n",
        "- 이에 맞는 전처리 방법이 필요 (sequence padding)"
      ]
    },
    {
      "metadata": {
        "id": "LgkbQbvHvcO2",
        "colab_type": "code",
        "outputId": "8a669a72-3681-497e-f0f6-7bda19f0be57",
        "colab": {
          "base_uri": "https://localhost:8080/",
          "height": 125
        }
      },
      "cell_type": "code",
      "source": [
        "max_features = 10000  # 특성으로 사용할 단어의 수\n",
        "maxlen = 500  # 사용할 텍스트의 길이\n",
        "batch_size = 32\n",
        "\n",
        "print('데이터 로딩...')\n",
        "(x_train, y_train), (x_test, y_test) = imdb.load_data(num_words=max_features)\n",
        "print(len(x_train), '훈련 시퀀스')\n",
        "print(len(x_test), '테스트 시퀀스')\n",
        "\n",
        "print('시퀀스 패딩 (samples x time)')\n",
        "input_train = sequence.pad_sequences(x_train, maxlen=maxlen)\n",
        "input_test = sequence.pad_sequences(x_test, maxlen=maxlen)\n",
        "print('input_train 크기:', input_train.shape)\n",
        "print('input_test 크기:', input_test.shape)"
      ],
      "execution_count": 0,
      "outputs": [
        {
          "output_type": "stream",
          "text": [
            "데이터 로딩...\n",
            "25000 훈련 시퀀스\n",
            "25000 테스트 시퀀스\n",
            "시퀀스 패딩 (samples x time)\n",
            "input_train 크기: (25000, 500)\n",
            "input_test 크기: (25000, 500)\n"
          ],
          "name": "stdout"
        }
      ]
    },
    {
      "metadata": {
        "id": "70Ipu3PRxJZt",
        "colab_type": "code",
        "outputId": "e59f301e-171d-4d42-9e75-177b2ed99148",
        "colab": {
          "base_uri": "https://localhost:8080/",
          "height": 181
        }
      },
      "cell_type": "code",
      "source": [
        "x_train"
      ],
      "execution_count": 0,
      "outputs": [
        {
          "output_type": "execute_result",
          "data": {
            "text/plain": [
              "array([list([1, 14, 22, 16, 43, 530, 973, 1622, 1385, 65, 458, 4468, 66, 3941, 4, 173, 36, 256, 5, 25, 100, 43, 838, 112, 50, 670, 2, 9, 35, 480, 284, 5, 150, 4, 172, 112, 167, 2, 336, 385, 39, 4, 172, 4536, 1111, 17, 546, 38, 13, 447, 4, 192, 50, 16, 6, 147, 2025, 19, 14, 22, 4, 1920, 4613, 469, 4, 22, 71, 87, 12, 16, 43, 530, 38, 76, 15, 13, 1247, 4, 22, 17, 515, 17, 12, 16, 626, 18, 2, 5, 62, 386, 12, 8, 316, 8, 106, 5, 4, 2223, 5244, 16, 480, 66, 3785, 33, 4, 130, 12, 16, 38, 619, 5, 25, 124, 51, 36, 135, 48, 25, 1415, 33, 6, 22, 12, 215, 28, 77, 52, 5, 14, 407, 16, 82, 2, 8, 4, 107, 117, 5952, 15, 256, 4, 2, 7, 3766, 5, 723, 36, 71, 43, 530, 476, 26, 400, 317, 46, 7, 4, 2, 1029, 13, 104, 88, 4, 381, 15, 297, 98, 32, 2071, 56, 26, 141, 6, 194, 7486, 18, 4, 226, 22, 21, 134, 476, 26, 480, 5, 144, 30, 5535, 18, 51, 36, 28, 224, 92, 25, 104, 4, 226, 65, 16, 38, 1334, 88, 12, 16, 283, 5, 16, 4472, 113, 103, 32, 15, 16, 5345, 19, 178, 32]),\n",
              "       list([1, 194, 1153, 194, 8255, 78, 228, 5, 6, 1463, 4369, 5012, 134, 26, 4, 715, 8, 118, 1634, 14, 394, 20, 13, 119, 954, 189, 102, 5, 207, 110, 3103, 21, 14, 69, 188, 8, 30, 23, 7, 4, 249, 126, 93, 4, 114, 9, 2300, 1523, 5, 647, 4, 116, 9, 35, 8163, 4, 229, 9, 340, 1322, 4, 118, 9, 4, 130, 4901, 19, 4, 1002, 5, 89, 29, 952, 46, 37, 4, 455, 9, 45, 43, 38, 1543, 1905, 398, 4, 1649, 26, 6853, 5, 163, 11, 3215, 2, 4, 1153, 9, 194, 775, 7, 8255, 2, 349, 2637, 148, 605, 2, 8003, 15, 123, 125, 68, 2, 6853, 15, 349, 165, 4362, 98, 5, 4, 228, 9, 43, 2, 1157, 15, 299, 120, 5, 120, 174, 11, 220, 175, 136, 50, 9, 4373, 228, 8255, 5, 2, 656, 245, 2350, 5, 4, 9837, 131, 152, 491, 18, 2, 32, 7464, 1212, 14, 9, 6, 371, 78, 22, 625, 64, 1382, 9, 8, 168, 145, 23, 4, 1690, 15, 16, 4, 1355, 5, 28, 6, 52, 154, 462, 33, 89, 78, 285, 16, 145, 95]),\n",
              "       list([1, 14, 47, 8, 30, 31, 7, 4, 249, 108, 7, 4, 5974, 54, 61, 369, 13, 71, 149, 14, 22, 112, 4, 2401, 311, 12, 16, 3711, 33, 75, 43, 1829, 296, 4, 86, 320, 35, 534, 19, 263, 4821, 1301, 4, 1873, 33, 89, 78, 12, 66, 16, 4, 360, 7, 4, 58, 316, 334, 11, 4, 1716, 43, 645, 662, 8, 257, 85, 1200, 42, 1228, 2578, 83, 68, 3912, 15, 36, 165, 1539, 278, 36, 69, 2, 780, 8, 106, 14, 6905, 1338, 18, 6, 22, 12, 215, 28, 610, 40, 6, 87, 326, 23, 2300, 21, 23, 22, 12, 272, 40, 57, 31, 11, 4, 22, 47, 6, 2307, 51, 9, 170, 23, 595, 116, 595, 1352, 13, 191, 79, 638, 89, 2, 14, 9, 8, 106, 607, 624, 35, 534, 6, 227, 7, 129, 113]),\n",
              "       ...,\n",
              "       list([1, 11, 6, 230, 245, 6401, 9, 6, 1225, 446, 2, 45, 2174, 84, 8322, 4007, 21, 4, 912, 84, 2, 325, 725, 134, 2, 1715, 84, 5, 36, 28, 57, 1099, 21, 8, 140, 8, 703, 5, 2, 84, 56, 18, 1644, 14, 9, 31, 7, 4, 9406, 1209, 2295, 2, 1008, 18, 6, 20, 207, 110, 563, 12, 8, 2901, 2, 8, 97, 6, 20, 53, 4767, 74, 4, 460, 364, 1273, 29, 270, 11, 960, 108, 45, 40, 29, 2961, 395, 11, 6, 4065, 500, 7, 2, 89, 364, 70, 29, 140, 4, 64, 4780, 11, 4, 2678, 26, 178, 4, 529, 443, 2, 5, 27, 710, 117, 2, 8123, 165, 47, 84, 37, 131, 818, 14, 595, 10, 10, 61, 1242, 1209, 10, 10, 288, 2260, 1702, 34, 2901, 2, 4, 65, 496, 4, 231, 7, 790, 5, 6, 320, 234, 2766, 234, 1119, 1574, 7, 496, 4, 139, 929, 2901, 2, 7750, 5, 4241, 18, 4, 8497, 2, 250, 11, 1818, 7561, 4, 4217, 5408, 747, 1115, 372, 1890, 1006, 541, 9303, 7, 4, 59, 2, 4, 3586, 2]),\n",
              "       list([1, 1446, 7079, 69, 72, 3305, 13, 610, 930, 8, 12, 582, 23, 5, 16, 484, 685, 54, 349, 11, 4120, 2959, 45, 58, 1466, 13, 197, 12, 16, 43, 23, 2, 5, 62, 30, 145, 402, 11, 4131, 51, 575, 32, 61, 369, 71, 66, 770, 12, 1054, 75, 100, 2198, 8, 4, 105, 37, 69, 147, 712, 75, 3543, 44, 257, 390, 5, 69, 263, 514, 105, 50, 286, 1814, 23, 4, 123, 13, 161, 40, 5, 421, 4, 116, 16, 897, 13, 2, 40, 319, 5872, 112, 6700, 11, 4803, 121, 25, 70, 3468, 4, 719, 3798, 13, 18, 31, 62, 40, 8, 7200, 4, 2, 7, 14, 123, 5, 942, 25, 8, 721, 12, 145, 5, 202, 12, 160, 580, 202, 12, 6, 52, 58, 2, 92, 401, 728, 12, 39, 14, 251, 8, 15, 251, 5, 2, 12, 38, 84, 80, 124, 12, 9, 23]),\n",
              "       list([1, 17, 6, 194, 337, 7, 4, 204, 22, 45, 254, 8, 106, 14, 123, 4, 2, 270, 2, 5, 2, 2, 732, 2098, 101, 405, 39, 14, 1034, 4, 1310, 9, 115, 50, 305, 12, 47, 4, 168, 5, 235, 7, 38, 111, 699, 102, 7, 4, 4039, 9245, 9, 24, 6, 78, 1099, 17, 2345, 2, 21, 27, 9685, 6139, 5, 2, 1603, 92, 1183, 4, 1310, 7, 4, 204, 42, 97, 90, 35, 221, 109, 29, 127, 27, 118, 8, 97, 12, 157, 21, 6789, 2, 9, 6, 66, 78, 1099, 4, 631, 1191, 5, 2642, 272, 191, 1070, 6, 7585, 8, 2197, 2, 2, 544, 5, 383, 1271, 848, 1468, 2, 497, 2, 8, 1597, 8778, 2, 21, 60, 27, 239, 9, 43, 8368, 209, 405, 10, 10, 12, 764, 40, 4, 248, 20, 12, 16, 5, 174, 1791, 72, 7, 51, 6, 1739, 22, 4, 204, 131, 9])],\n",
              "      dtype=object)"
            ]
          },
          "metadata": {
            "tags": []
          },
          "execution_count": 33
        }
      ]
    },
    {
      "metadata": {
        "id": "Tsg_NTYZxwpL",
        "colab_type": "text"
      },
      "cell_type": "markdown",
      "source": [
        "**load word index part**"
      ]
    },
    {
      "metadata": {
        "id": "7upQ_zvCy4G1",
        "colab_type": "text"
      },
      "cell_type": "markdown",
      "source": [
        "**index to word** and **word to index** "
      ]
    },
    {
      "metadata": {
        "id": "S_oyPG9ixgk7",
        "colab_type": "code",
        "colab": {}
      },
      "cell_type": "code",
      "source": [
        "word_idx = imdb.get_word_index()"
      ],
      "execution_count": 0,
      "outputs": []
    },
    {
      "metadata": {
        "id": "ylKIzL7fx3r3",
        "colab_type": "code",
        "colab": {}
      },
      "cell_type": "code",
      "source": [
        "INDEX_FROM=3 \n",
        "word_to_id = word_idx\n",
        "word_to_id = {k:(v+INDEX_FROM) for k,v in word_to_id.items()}\n",
        "word_to_id[\"<PAD>\"] = 0\n",
        "word_to_id[\"<START>\"] = 1\n",
        "word_to_id[\"<UNK>\"] = 2\n",
        "\n",
        "id_to_word = {value:key for key,value in word_to_id.items()}"
      ],
      "execution_count": 0,
      "outputs": []
    },
    {
      "metadata": {
        "id": "onsXoebwzGU3",
        "colab_type": "code",
        "outputId": "6e2e9297-cd5f-4623-c99e-ebc667c0544b",
        "colab": {
          "base_uri": "https://localhost:8080/",
          "height": 35
        }
      },
      "cell_type": "code",
      "source": [
        "print(id_to_word[32])"
      ],
      "execution_count": 0,
      "outputs": [
        {
          "output_type": "stream",
          "text": [
            "all\n"
          ],
          "name": "stdout"
        }
      ]
    },
    {
      "metadata": {
        "id": "eEMYffFQwAGx",
        "colab_type": "code",
        "outputId": "05af2a67-9903-48d5-8dfe-b4a0dcc28165",
        "colab": {
          "base_uri": "https://localhost:8080/",
          "height": 143
        }
      },
      "cell_type": "code",
      "source": [
        "print(input_train)"
      ],
      "execution_count": 0,
      "outputs": [
        {
          "output_type": "stream",
          "text": [
            "[[   0    0    0 ...   19  178   32]\n",
            " [   0    0    0 ...   16  145   95]\n",
            " [   0    0    0 ...    7  129  113]\n",
            " ...\n",
            " [   0    0    0 ...    4 3586    2]\n",
            " [   0    0    0 ...   12    9   23]\n",
            " [   0    0    0 ...  204  131    9]]\n"
          ],
          "name": "stdout"
        }
      ]
    },
    {
      "metadata": {
        "id": "UbaHb1jSwNjN",
        "colab_type": "text"
      },
      "cell_type": "markdown",
      "source": [
        "- intput 과 output을 단어의 sequence로 보기 위해서 데이터들은 단어의 index 의 sequence로 전처리 수행\n",
        "- 최대 길이를 500 으로 하였으므로 이보다 짧은 길이는 앞 부분이 0 으로 padding 됨"
      ]
    },
    {
      "metadata": {
        "id": "eW_jmvqywJYU",
        "colab_type": "code",
        "outputId": "abf2c470-616c-4699-c73b-c45f8990a0f1",
        "colab": {
          "base_uri": "https://localhost:8080/",
          "height": 415
        }
      },
      "cell_type": "code",
      "source": [
        "from keras.layers import Dense,SimpleRNN\n",
        "\n",
        "model = Sequential()\n",
        "model.add(Embedding(max_features, 32))\n",
        "model.add(SimpleRNN(32))\n",
        "model.add(Dense(1, activation='sigmoid'))\n",
        "\n",
        "model.compile(optimizer='rmsprop', loss='binary_crossentropy', metrics=['acc'])\n",
        "history = model.fit(input_train, y_train,\n",
        "                    epochs=10,\n",
        "                    batch_size=128,\n",
        "                    validation_split=0.2)"
      ],
      "execution_count": 0,
      "outputs": [
        {
          "output_type": "stream",
          "text": [
            "Train on 20000 samples, validate on 5000 samples\n",
            "Epoch 1/10\n",
            "20000/20000 [==============================] - 18s 905us/step - loss: 0.5965 - acc: 0.6678 - val_loss: 0.5930 - val_acc: 0.6788\n",
            "Epoch 2/10\n",
            "20000/20000 [==============================] - 18s 883us/step - loss: 0.3898 - acc: 0.8375 - val_loss: 0.3504 - val_acc: 0.8572\n",
            "Epoch 3/10\n",
            "20000/20000 [==============================] - 18s 878us/step - loss: 0.2741 - acc: 0.8924 - val_loss: 0.3563 - val_acc: 0.8592\n",
            "Epoch 4/10\n",
            "20000/20000 [==============================] - 17s 874us/step - loss: 0.2057 - acc: 0.9236 - val_loss: 0.3426 - val_acc: 0.8678\n",
            "Epoch 5/10\n",
            "20000/20000 [==============================] - 17s 868us/step - loss: 0.1458 - acc: 0.9499 - val_loss: 0.3849 - val_acc: 0.8542\n",
            "Epoch 6/10\n",
            "20000/20000 [==============================] - 18s 891us/step - loss: 0.0901 - acc: 0.9701 - val_loss: 0.4540 - val_acc: 0.8348\n",
            "Epoch 7/10\n",
            "20000/20000 [==============================] - 18s 876us/step - loss: 0.0642 - acc: 0.9788 - val_loss: 0.4843 - val_acc: 0.8530\n",
            "Epoch 8/10\n",
            "20000/20000 [==============================] - 18s 880us/step - loss: 0.0401 - acc: 0.9873 - val_loss: 0.5227 - val_acc: 0.8300\n",
            "Epoch 9/10\n",
            "20000/20000 [==============================] - 17s 872us/step - loss: 0.0258 - acc: 0.9925 - val_loss: 0.7369 - val_acc: 0.7720\n",
            "Epoch 10/10\n",
            "20000/20000 [==============================] - 17s 874us/step - loss: 0.0277 - acc: 0.9915 - val_loss: 0.5790 - val_acc: 0.8308\n"
          ],
          "name": "stdout"
        }
      ]
    },
    {
      "metadata": {
        "id": "MmCKPlnqzQsa",
        "colab_type": "code",
        "colab": {}
      },
      "cell_type": "code",
      "source": [
        "import matplotlib.pyplot as plt"
      ],
      "execution_count": 0,
      "outputs": []
    },
    {
      "metadata": {
        "id": "XQPdHXHOzaOw",
        "colab_type": "text"
      },
      "cell_type": "markdown",
      "source": [
        "훈련과 검증 정확도 그래프로 그리기"
      ]
    },
    {
      "metadata": {
        "id": "yP8bW1LdzfMg",
        "colab_type": "code",
        "outputId": "70089d83-41d6-4607-8140-3fc790dac271",
        "colab": {
          "base_uri": "https://localhost:8080/",
          "height": 708
        }
      },
      "cell_type": "code",
      "source": [
        "acc = history.history['acc']\n",
        "val_acc = history.history['val_acc']\n",
        "loss = history.history['loss']\n",
        "val_loss = history.history['val_loss']\n",
        "\n",
        "epochs = range(1, len(acc) + 1)\n",
        "\n",
        "plt.plot(epochs, acc, 'bo', label='Training acc')\n",
        "plt.plot(epochs, val_acc, 'b', label='Validation acc')\n",
        "plt.title('Training and validation accuracy')\n",
        "plt.legend()\n",
        "\n",
        "plt.figure()\n",
        "\n",
        "plt.plot(epochs, loss, 'bo', label='Training loss')\n",
        "plt.plot(epochs, val_loss, 'b', label='Validation loss')\n",
        "plt.title('Training and validation loss')\n",
        "plt.legend()\n",
        "\n",
        "plt.show()\n"
      ],
      "execution_count": 0,
      "outputs": [
        {
          "output_type": "display_data",
          "data": {
            "image/png": "[encoded data removed]",
            "text/plain": [
              "<Figure size 576x396 with 1 Axes>"
            ]
          },
          "metadata": {
            "tags": []
          }
        },
        {
          "output_type": "display_data",
          "data": {
            "image/png": "[encoded data removed]",
            "text/plain": [
              "<Figure size 576x396 with 1 Axes>"
            ]
          },
          "metadata": {
            "tags": []
          }
        }
      ]
    },
    {
      "metadata": {
        "id": "4FRQ81Ntzkvo",
        "colab_type": "text"
      },
      "cell_type": "markdown",
      "source": [
        "## LSTM model 이용"
      ]
    },
    {
      "metadata": {
        "id": "V7QVXBfczi10",
        "colab_type": "code",
        "outputId": "5f4b265e-67bf-4dc9-d36f-fdeec153a0e6",
        "colab": {
          "base_uri": "https://localhost:8080/",
          "height": 415
        }
      },
      "cell_type": "code",
      "source": [
        "from keras.layers import LSTM\n",
        "\n",
        "model = Sequential()\n",
        "model.add(Embedding(max_features, 32))\n",
        "model.add(LSTM(32))\n",
        "model.add(Dense(1, activation='sigmoid'))\n",
        "\n",
        "model.compile(optimizer='rmsprop',\n",
        "              loss='binary_crossentropy',\n",
        "              metrics=['acc'])\n",
        "history = model.fit(input_train, y_train,\n",
        "                    epochs=10,\n",
        "                    batch_size=128,\n",
        "                    validation_split=0.2)"
      ],
      "execution_count": 0,
      "outputs": [
        {
          "output_type": "stream",
          "text": [
            "Train on 20000 samples, validate on 5000 samples\n",
            "Epoch 1/10\n",
            "20000/20000 [==============================] - 76s 4ms/step - loss: 0.5012 - acc: 0.7608 - val_loss: 0.3293 - val_acc: 0.8660\n",
            "Epoch 2/10\n",
            "20000/20000 [==============================] - 77s 4ms/step - loss: 0.2923 - acc: 0.8851 - val_loss: 0.3333 - val_acc: 0.8598\n",
            "Epoch 3/10\n",
            "20000/20000 [==============================] - 76s 4ms/step - loss: 0.2269 - acc: 0.9147 - val_loss: 0.3888 - val_acc: 0.8688\n",
            "Epoch 4/10\n",
            "20000/20000 [==============================] - 76s 4ms/step - loss: 0.1942 - acc: 0.9295 - val_loss: 0.3299 - val_acc: 0.8882\n",
            "Epoch 5/10\n",
            "20000/20000 [==============================] - 76s 4ms/step - loss: 0.1725 - acc: 0.9379 - val_loss: 0.2981 - val_acc: 0.8816\n",
            "Epoch 6/10\n",
            "20000/20000 [==============================] - 76s 4ms/step - loss: 0.1566 - acc: 0.9438 - val_loss: 0.3117 - val_acc: 0.8802\n",
            "Epoch 7/10\n",
            "20000/20000 [==============================] - 75s 4ms/step - loss: 0.1377 - acc: 0.9511 - val_loss: 0.4718 - val_acc: 0.8640\n",
            "Epoch 8/10\n",
            "20000/20000 [==============================] - 75s 4ms/step - loss: 0.1252 - acc: 0.9560 - val_loss: 0.4091 - val_acc: 0.8740\n",
            "Epoch 9/10\n",
            "20000/20000 [==============================] - 76s 4ms/step - loss: 0.1171 - acc: 0.9584 - val_loss: 0.3370 - val_acc: 0.8620\n",
            "Epoch 10/10\n",
            "20000/20000 [==============================] - 76s 4ms/step - loss: 0.1064 - acc: 0.9643 - val_loss: 0.3773 - val_acc: 0.8818\n"
          ],
          "name": "stdout"
        }
      ]
    },
    {
      "metadata": {
        "id": "lUpnm0Xxzr44",
        "colab_type": "code",
        "outputId": "1c33186b-ff64-43c4-ff62-fccef987c22c",
        "colab": {
          "base_uri": "https://localhost:8080/",
          "height": 708
        }
      },
      "cell_type": "code",
      "source": [
        "acc = history.history['acc']\n",
        "val_acc = history.history['val_acc']\n",
        "loss = history.history['loss']\n",
        "val_loss = history.history['val_loss']\n",
        "\n",
        "epochs = range(1, len(acc) + 1)\n",
        "\n",
        "plt.plot(epochs, acc, 'bo', label='Training acc')\n",
        "plt.plot(epochs, val_acc, 'b', label='Validation acc')\n",
        "plt.title('Training and validation accuracy')\n",
        "plt.legend()\n",
        "\n",
        "plt.figure()\n",
        "\n",
        "plt.plot(epochs, loss, 'bo', label='Training loss')\n",
        "plt.plot(epochs, val_loss, 'b', label='Validation loss')\n",
        "plt.title('Training and validation loss')\n",
        "plt.legend()\n",
        "\n",
        "plt.show()"
      ],
      "execution_count": 0,
      "outputs": [
        {
          "output_type": "display_data",
          "data": {
            "image/png": "[encoded data removed]",
            "text/plain": [
              "<Figure size 576x396 with 1 Axes>"
            ]
          },
          "metadata": {
            "tags": []
          }
        },
        {
          "output_type": "display_data",
          "data": {
            "image/png": "[encoded data removed]",
            "text/plain": [
              "<Figure size 576x396 with 1 Axes>"
            ]
          },
          "metadata": {
            "tags": []
          }
        }
      ]
    },
    {
      "metadata": {
        "id": "kw7g8ARC0jQH",
        "colab_type": "code",
        "colab": {}
      },
      "cell_type": "code",
      "source": [
        ""
      ],
      "execution_count": 0,
      "outputs": []
    }
  ]
}